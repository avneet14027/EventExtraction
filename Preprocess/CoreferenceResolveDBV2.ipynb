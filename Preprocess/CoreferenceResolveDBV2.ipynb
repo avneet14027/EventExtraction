{
 "cells": [
  {
   "cell_type": "code",
   "execution_count": 39,
   "metadata": {},
   "outputs": [],
   "source": [
    "import spacy\n",
    "import os\n",
    "from os import listdir\n",
    "from os.path import isfile, join\n",
    "import io\n",
    "import codecs\n",
    "import os"
   ]
  },
  {
   "cell_type": "code",
   "execution_count": 21,
   "metadata": {},
   "outputs": [
    {
     "data": {
      "text/plain": [
       "\"import en_coref_md\\n\\nnlp = en_coref_md.load()\\ndoc = nlp(u'Twelve militants have been killed recently during anti-militant operations at three different places in South Kashmir.  Three civilians and three Army personnel have also died during these operations.  It seems that present situation is more serious than the situation which had emerged after the killing of Burhan Wani.  This time, a large of number of people is with militants without any fear of death.  People are highly passionate and nobody cares for results.  Nobody is sensible enough to think that they can’t fight machine guns by stones.  People are with militants and forces have to fight against both militants and people.  It is a highly perplexing situation for forces also, because they don’t know who their enemy is and what their target is.  In this situation, expansion of All Out Operation by launching operations at different places simultaneously creates possibility of deaths.  If efforts are made at ground level to improve situation before implementing All Out Operation, things would be different.  There is need to work at political level and to create atmosphere for establishing contact with people.  Political steps could prove more useful for improving the situation, but this factor is being ignored altogether.  It is the duty of elected Government of State to identity factors responsible for increasing disillusionment among people. Another option is that anti-militant operations should be planned in meticulous way to avoid any possibility of confrontation between people and forces.  The third option is to look at internal and external dimensions of Kashmir issue and take initiatives by which people could believe that Government is worried about this complex issue and its resolution.  Atal Bihari Vajpayee is still being respected in Kashmir, because he made sincere efforts for the resolution of Kashmir issue.')\\n#doc._.coref_clusters\""
      ]
     },
     "execution_count": 21,
     "metadata": {},
     "output_type": "execute_result"
    }
   ],
   "source": [
    "\"\"\"import en_coref_md\n",
    "\n",
    "nlp = en_coref_md.load()\n",
    "doc = nlp(u'Twelve militants have been killed recently during anti-militant operations at three different places in South Kashmir.  Three civilians and three Army personnel have also died during these operations.  It seems that present situation is more serious than the situation which had emerged after the killing of Burhan Wani.  This time, a large of number of people is with militants without any fear of death.  People are highly passionate and nobody cares for results.  Nobody is sensible enough to think that they can’t fight machine guns by stones.  People are with militants and forces have to fight against both militants and people.  It is a highly perplexing situation for forces also, because they don’t know who their enemy is and what their target is.  In this situation, expansion of All Out Operation by launching operations at different places simultaneously creates possibility of deaths.  If efforts are made at ground level to improve situation before implementing All Out Operation, things would be different.  There is need to work at political level and to create atmosphere for establishing contact with people.  Political steps could prove more useful for improving the situation, but this factor is being ignored altogether.  It is the duty of elected Government of State to identity factors responsible for increasing disillusionment among people. Another option is that anti-militant operations should be planned in meticulous way to avoid any possibility of confrontation between people and forces.  The third option is to look at internal and external dimensions of Kashmir issue and take initiatives by which people could believe that Government is worried about this complex issue and its resolution.  Atal Bihari Vajpayee is still being respected in Kashmir, because he made sincere efforts for the resolution of Kashmir issue.')\n",
    "#doc._.coref_clusters\"\"\""
   ]
  },
  {
   "cell_type": "code",
   "execution_count": null,
   "metadata": {},
   "outputs": [],
   "source": []
  },
  {
   "cell_type": "code",
   "execution_count": 22,
   "metadata": {},
   "outputs": [
    {
     "data": {
      "text/plain": [
       "<spacy.lang.en.English at 0x2793325e0f0>"
      ]
     },
     "execution_count": 22,
     "metadata": {},
     "output_type": "execute_result"
    }
   ],
   "source": [
    "import spacy\n",
    "nlp = spacy.load('en')\n",
    "\n",
    "# Add neural coref to SpaCy's pipe\n",
    "import neuralcoref\n",
    "neuralcoref.add_to_pipe(nlp)\n",
    "\n",
    "# You're done. You can now use NeuralCoref as you usually manipulate a SpaCy document annotations.\n",
    "#doc = nlp(u'My sister has a dog. She loves him.')\n",
    "#x = doc._.coref_resolved\n",
    "#x\n",
    "#doc._.has_coref\n",
    "#doc._.coref_clusters"
   ]
  },
  {
   "cell_type": "code",
   "execution_count": 23,
   "metadata": {},
   "outputs": [],
   "source": [
    "def process_dirs(mypath,temp_path):\n",
    "    subdirs = [x[0] for x in os.walk(path)]\n",
    "    subdirs = subdirs[1:]\n",
    "    for mypath in subdirs:\n",
    "        onlyfiles = [f for f in listdir(mypath) if isfile(join(mypath, f))]\n",
    "        print(mypath)\n",
    "        for filename in onlyfiles:\n",
    "            process_file(filename,mypath,temp_path)\n",
    "    print(onlyfiles)\n",
    "    print(subdirs)"
   ]
  },
  {
   "cell_type": "code",
   "execution_count": 24,
   "metadata": {},
   "outputs": [
    {
     "data": {
      "text/plain": [
       "'\\ndate_str = \"April 1  2017_1\".split(\"_\")\\ndate_obj = datetime.datetime.strptime(date_str[0], \\'%B %d  %Y\\')\\nx = date_obj.date().strftime(\\'%d-%m-%Y\\')\\nx'"
      ]
     },
     "execution_count": 24,
     "metadata": {},
     "output_type": "execute_result"
    }
   ],
   "source": [
    "\"\"\"\n",
    "date_str = \"April 1  2017_1\".split(\"_\")\n",
    "date_obj = datetime.datetime.strptime(date_str[0], '%B %d  %Y')\n",
    "x = date_obj.date().strftime('%d-%m-%Y')\n",
    "x\"\"\""
   ]
  },
  {
   "cell_type": "code",
   "execution_count": null,
   "metadata": {},
   "outputs": [],
   "source": []
  },
  {
   "cell_type": "markdown",
   "metadata": {},
   "source": [
    "import datetime\n",
    "date_time_str = 'April 01, 2016'  \n",
    "date_time_obj = datetime.datetime.strptime(date_time_str, '%B %d, %Y')\n",
    "\n",
    "print('Date:', date_time_obj.date())  \n",
    "print('Time:', date_time_obj.time())  \n",
    "print('Date-time:', date_time_obj)"
   ]
  },
  {
   "cell_type": "code",
   "execution_count": 43,
   "metadata": {},
   "outputs": [],
   "source": [
    "def process_file(filename,mypath,temp_path):\n",
    "    global nlp\n",
    "    \n",
    "    temp = filename.split(\"_\")\n",
    "    print(temp)\n",
    "    date_str = temp[0]\n",
    "    #print(date_str)\n",
    "    date_obj = datetime.datetime.strptime(date_str, '%B %m, %Y')\n",
    "    new_date = date_obj.date().strftime('%d-%m-%Y')\n",
    "    new_filename = new_date + \"_\" + temp[1]\n",
    "    \n",
    "    month = mypath.split(\"\\\\\")[-1]\n",
    "    #write_path = \"C:\\\\Users\\\\Reen\\\\Desktop\\\\OutCoref2016\" + \"\\\\\" + month + \"\\\\\" + new_filename\n",
    "    directory = temp_path + \"\\\\\" + month\n",
    "    if not os.path.exists(directory):\n",
    "        os.makedirs(directory)\n",
    "    write_path = temp_path + \"\\\\\" + month + \"\\\\\" + new_filename\n",
    "    file_read = mypath + \"\\\\\" + filename\n",
    "    print(file_read)\n",
    "    with open(file_read, 'r',encoding=\"utf8\") as file:\n",
    "        data = file.read()\n",
    "        content = data.split(\"\\n\\t\")\n",
    "        #print(content)\n",
    "        headline = content[0]\n",
    "        body = content[1]\n",
    "        #print(body)\n",
    "        doc = nlp(body)\n",
    "        coref_body = doc._.coref_resolved\n",
    "        #print(coref_body)\n",
    "        data_to_write = headline + \"\\n\\n\" + coref_body\n",
    "        write_to_file(write_path,data_to_write)\n",
    "    file.close()\n",
    "        "
   ]
  },
  {
   "cell_type": "code",
   "execution_count": 44,
   "metadata": {},
   "outputs": [],
   "source": [
    "def write_to_file(filename,content):\n",
    "    with open(filename, 'w+') as the_file:\n",
    "        the_file.write(content)\n",
    "    the_file.close()"
   ]
  },
  {
   "cell_type": "code",
   "execution_count": null,
   "metadata": {},
   "outputs": [],
   "source": []
  },
  {
   "cell_type": "code",
   "execution_count": 46,
   "metadata": {},
   "outputs": [
    {
     "data": {
      "text/plain": [
       "'path = \"C:\\\\Users\\\\Reen\\\\Desktop\\\\DBFiles\\\\NewData\\\\TestCoref2016\"\\ntemp_path  = \"C:\\\\Users\\\\Reen\\\\Desktop\\\\DBFiles\\\\NewData\\\\OutCoref2016\"\\nprocess_dirs(path,temp_path)'"
      ]
     },
     "execution_count": 46,
     "metadata": {},
     "output_type": "execute_result"
    }
   ],
   "source": [
    "path = \"C:\\\\Users\\\\Reen\\\\Desktop\\\\DBFiles\\\\NewData\\\\TestCoref2016\"\n",
    "temp_path  = \"C:\\\\Users\\\\Reen\\\\Desktop\\\\DBFiles\\\\NewData\\\\OutCoref2016\"\n",
    "process_dirs(path,temp_path)"
   ]
  },
  {
   "cell_type": "code",
   "execution_count": null,
   "metadata": {},
   "outputs": [],
   "source": []
  },
  {
   "cell_type": "code",
   "execution_count": null,
   "metadata": {},
   "outputs": [],
   "source": []
  },
  {
   "cell_type": "code",
   "execution_count": null,
   "metadata": {},
   "outputs": [],
   "source": []
  }
 ],
 "metadata": {
  "kernelspec": {
   "display_name": "Python 3",
   "language": "python",
   "name": "python3"
  },
  "language_info": {
   "codemirror_mode": {
    "name": "ipython",
    "version": 3
   },
   "file_extension": ".py",
   "mimetype": "text/x-python",
   "name": "python",
   "nbconvert_exporter": "python",
   "pygments_lexer": "ipython3",
   "version": "3.7.1"
  }
 },
 "nbformat": 4,
 "nbformat_minor": 2
}
